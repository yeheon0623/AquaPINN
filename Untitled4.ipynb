{
 "cells": [
  {
   "cell_type": "code",
   "execution_count": 25,
   "id": "193c3fc2-3b75-4322-b5fb-5aef3272d912",
   "metadata": {},
   "outputs": [
    {
     "ename": "ImportError",
     "evalue": "cannot import name 'model_gradients' from 'model_gradients' (C:\\Users\\14611\\model_gradients.py)",
     "output_type": "error",
     "traceback": [
      "\u001b[1;31m---------------------------------------------------------------------------\u001b[0m",
      "\u001b[1;31mImportError\u001b[0m                               Traceback (most recent call last)",
      "File \u001b[1;32m~\\unconfined_homogeneous_isotropic.py:13\u001b[0m\n\u001b[0;32m     11\u001b[0m \u001b[38;5;28;01mfrom\u001b[39;00m \u001b[38;5;21;01mmodel\u001b[39;00m \u001b[38;5;28;01mimport\u001b[39;00m model\n\u001b[0;32m     12\u001b[0m \u001b[38;5;28;01mfrom\u001b[39;00m \u001b[38;5;21;01mmodel_2\u001b[39;00m \u001b[38;5;28;01mimport\u001b[39;00m model_2\n\u001b[1;32m---> 13\u001b[0m \u001b[38;5;28;01mfrom\u001b[39;00m \u001b[38;5;21;01mmodel_gradients\u001b[39;00m \u001b[38;5;28;01mimport\u001b[39;00m model_gradients\n\u001b[0;32m     14\u001b[0m \u001b[38;5;28;01mfrom\u001b[39;00m \u001b[38;5;21;01mmodel_gradients_parameters2\u001b[39;00m \u001b[38;5;28;01mimport\u001b[39;00m model_gradients_parameters2\n\u001b[0;32m     16\u001b[0m device \u001b[38;5;241m=\u001b[39m torch\u001b[38;5;241m.\u001b[39mdevice(\u001b[38;5;124m\"\u001b[39m\u001b[38;5;124mcuda\u001b[39m\u001b[38;5;124m\"\u001b[39m \u001b[38;5;28;01mif\u001b[39;00m torch\u001b[38;5;241m.\u001b[39mcuda\u001b[38;5;241m.\u001b[39mis_available() \u001b[38;5;28;01melse\u001b[39;00m \u001b[38;5;124m\"\u001b[39m\u001b[38;5;124mcpu\u001b[39m\u001b[38;5;124m\"\u001b[39m)\n",
      "\u001b[1;31mImportError\u001b[0m: cannot import name 'model_gradients' from 'model_gradients' (C:\\Users\\14611\\model_gradients.py)"
     ]
    }
   ],
   "source": [
    "%run unconfined_homogeneous_isotropic.py\n"
   ]
  },
  {
   "cell_type": "code",
   "execution_count": 27,
   "id": "b63afe5a-40b2-4216-8100-8dc23434f549",
   "metadata": {},
   "outputs": [
    {
     "name": "stderr",
     "output_type": "stream",
     "text": [
      "D:\\anaconda\\Lib\\site-packages\\scipy\\io\\matlab\\_mio.py:227: MatReadWarning: Duplicate variable name \"None\" in stream - replacing previous with new\n",
      "Considerscipy.io.matlab._mio5.varmats_from_mat to split file into single variable files\n",
      "  matfile_dict = MR.get_variables(variable_names)\n"
     ]
    },
    {
     "ename": "TypeError",
     "evalue": "object of type 'NoneType' has no len()",
     "output_type": "error",
     "traceback": [
      "\u001b[1;31m---------------------------------------------------------------------------\u001b[0m",
      "\u001b[1;31mTypeError\u001b[0m                                 Traceback (most recent call last)",
      "File \u001b[1;32m~\\ann1_evaluation.py:39\u001b[0m\n\u001b[0;32m     36\u001b[0m dlT1  \u001b[38;5;241m=\u001b[39m torch\u001b[38;5;241m.\u001b[39mfull((\u001b[38;5;241m1\u001b[39m, n), \u001b[38;5;241m1.0\u001b[39m,  dtype\u001b[38;5;241m=\u001b[39mtorch\u001b[38;5;241m.\u001b[39mfloat32)\n\u001b[0;32m     38\u001b[0m \u001b[38;5;66;03m# 5. 用字典参数进行预测\u001b[39;00m\n\u001b[1;32m---> 39\u001b[0m dlHPred0  \u001b[38;5;241m=\u001b[39m model(py_parameters, dlX, dlZ, dlT0)\n\u001b[0;32m     40\u001b[0m dlHPred25 \u001b[38;5;241m=\u001b[39m model(py_parameters, dlX, dlZ, dlT25)\n\u001b[0;32m     41\u001b[0m dlHPred50 \u001b[38;5;241m=\u001b[39m model(py_parameters, dlX, dlZ, dlT50)\n",
      "File \u001b[1;32m~\\model.py:18\u001b[0m, in \u001b[0;36mmodel\u001b[1;34m(parameters, dlX, dlZ, dlT)\u001b[0m\n\u001b[0;32m     16\u001b[0m \u001b[38;5;66;03m# 拼接输入（竖直拼接）\u001b[39;00m\n\u001b[0;32m     17\u001b[0m dlXZT \u001b[38;5;241m=\u001b[39m torch\u001b[38;5;241m.\u001b[39mcat((dlX, dlZ, dlT), dim\u001b[38;5;241m=\u001b[39m\u001b[38;5;241m0\u001b[39m)\n\u001b[1;32m---> 18\u001b[0m num_layers \u001b[38;5;241m=\u001b[39m \u001b[38;5;28mlen\u001b[39m(parameters)\n\u001b[0;32m     20\u001b[0m \u001b[38;5;66;03m# 第一层\u001b[39;00m\n\u001b[0;32m     21\u001b[0m weights \u001b[38;5;241m=\u001b[39m parameters[\u001b[38;5;124m'\u001b[39m\u001b[38;5;124mfc1\u001b[39m\u001b[38;5;124m'\u001b[39m][\u001b[38;5;124m'\u001b[39m\u001b[38;5;124mWeights\u001b[39m\u001b[38;5;124m'\u001b[39m]\n",
      "\u001b[1;31mTypeError\u001b[0m: object of type 'NoneType' has no len()"
     ]
    }
   ],
   "source": [
    "%run ann1_evaluation.py\n"
   ]
  },
  {
   "cell_type": "code",
   "execution_count": null,
   "id": "e43c4850-b6d9-4a05-852c-561569e9b876",
   "metadata": {},
   "outputs": [],
   "source": []
  }
 ],
 "metadata": {
  "kernelspec": {
   "display_name": "Python 3 (ipykernel)",
   "language": "python",
   "name": "python3"
  },
  "language_info": {
   "codemirror_mode": {
    "name": "ipython",
    "version": 3
   },
   "file_extension": ".py",
   "mimetype": "text/x-python",
   "name": "python",
   "nbconvert_exporter": "python",
   "pygments_lexer": "ipython3",
   "version": "3.12.3"
  }
 },
 "nbformat": 4,
 "nbformat_minor": 5
}
